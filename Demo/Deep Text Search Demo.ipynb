{
 "cells": [
  {
   "cell_type": "code",
   "execution_count": 1,
   "id": "49594b04",
   "metadata": {},
   "outputs": [],
   "source": [
    "# Importing the proper classes\n",
    "from DeepTextSearch import LoadData,TextEmbedder,TextSearch"
   ]
  },
  {
   "cell_type": "code",
   "execution_count": 2,
   "id": "a5424e23",
   "metadata": {},
   "outputs": [
    {
     "name": "stdout",
     "output_type": "stream",
     "text": [
      "Input the text Column Name Please ? : Question\n"
     ]
    }
   ],
   "source": [
    "# Load data from CSV file\n",
    "data = LoadData().from_csv(\"../your_file_name.csv\")"
   ]
  },
  {
   "cell_type": "code",
   "execution_count": 3,
   "id": "5ce9f30d",
   "metadata": {},
   "outputs": [
    {
     "data": {
      "application/vnd.jupyter.widget-view+json": {
       "model_id": "26865bd100c948a6945f2e47ad3a9183",
       "version_major": 2,
       "version_minor": 0
      },
      "text/plain": [
       "Batches:   0%|          | 0/19 [00:00<?, ?it/s]"
      ]
     },
     "metadata": {},
     "output_type": "display_data"
    },
    {
     "name": "stdout",
     "output_type": "stream",
     "text": [
      "Embedding data Saved Successfully!\n",
      "['corpus_embeddings_data.pickle', 'corpus_list_data.pickle']\n"
     ]
    }
   ],
   "source": [
    "# For Serching we need to Embed Data first, After Embedding all the data stored on the local path\n",
    "TextEmbedder().embed(corpus_list=data)"
   ]
  },
  {
   "cell_type": "code",
   "execution_count": 4,
   "id": "5f349322",
   "metadata": {},
   "outputs": [
    {
     "data": {
      "text/plain": [
       "[{'index': 575, 'text': 'What is Node.js?', 'score': 0.88481015},\n",
       " {'index': 578, 'text': 'When should we use Node.js?', 'score': 0.8388137},\n",
       " {'index': 581, 'text': 'Explain how does Node.js work?', 'score': 0.8064759},\n",
       " {'index': 591, 'text': 'What are Globals in Node.js?', 'score': 0.7844132},\n",
       " {'index': 602,\n",
       "  'text': 'What is chaining process in Node.js?',\n",
       "  'score': 0.7806176},\n",
       " {'index': 596, 'text': 'What is NPM in Node.js?', 'score': 0.76716936},\n",
       " {'index': 586, 'text': 'What is Callback in Node.js?', 'score': 0.7659653},\n",
       " {'index': 579, 'text': 'When to not use Node.js?', 'score': 0.7643588},\n",
       " {'index': 593,\n",
       "  'text': 'What is EventEmitter in Node.js?',\n",
       "  'score': 0.7514152},\n",
       " {'index': 580,\n",
       "  'text': 'What IDEs can you use for Node.js development?',\n",
       "  'score': 0.74787086}]"
      ]
     },
     "execution_count": 4,
     "metadata": {},
     "output_type": "execute_result"
    }
   ],
   "source": [
    "# for searching, you need to give the query_text  and the number of the similar text you want\n",
    "TextSearch().find_similar(query_text=\"What are the key features of Node.js?\",top_n=10)"
   ]
  },
  {
   "cell_type": "code",
   "execution_count": null,
   "id": "e8b4c035",
   "metadata": {},
   "outputs": [],
   "source": []
  }
 ],
 "metadata": {
  "kernelspec": {
   "display_name": "Python 3",
   "language": "python",
   "name": "python3"
  },
  "language_info": {
   "codemirror_mode": {
    "name": "ipython",
    "version": 3
   },
   "file_extension": ".py",
   "mimetype": "text/x-python",
   "name": "python",
   "nbconvert_exporter": "python",
   "pygments_lexer": "ipython3",
   "version": "3.8.9"
  }
 },
 "nbformat": 4,
 "nbformat_minor": 5
}
